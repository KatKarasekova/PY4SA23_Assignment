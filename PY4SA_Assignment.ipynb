{
 "cells": [
  {
   "cell_type": "markdown",
   "id": "360af6f5-3979-4c97-814a-475f5137ce67",
   "metadata": {},
   "source": [
    "# Lab 2 Assignment - Katarina Karasekova (ID: 200025694)\n",
    "### Repo URL: https://github.com/KatKarasekova/PY4SA23_Assignment.git"
   ]
  },
  {
   "cell_type": "markdown",
   "id": "afa00fb4-d7c1-449d-8745-431bbfc1ae65",
   "metadata": {},
   "source": [
    "## Part 1: Python basics"
   ]
  },
  {
   "cell_type": "markdown",
   "id": "3c1894bf-5461-489b-a6c2-f3c8836dbf3a",
   "metadata": {
    "tags": []
   },
   "source": [
    "### Task 1: test if a number is divisible by 3"
   ]
  },
  {
   "cell_type": "code",
   "execution_count": 9,
   "id": "9479ceaa-ad5d-4fe1-8311-968835409242",
   "metadata": {},
   "outputs": [
    {
     "name": "stdin",
     "output_type": "stream",
     "text": [
      " 6\n"
     ]
    },
    {
     "name": "stdout",
     "output_type": "stream",
     "text": [
      "6 is divisible by 3.\n"
     ]
    }
   ],
   "source": [
    "x = int(input())\n",
    "\n",
    "if x % 3 == 0:\n",
    "    print(f\"{x} is divisible by 3.\")\n",
    "else:\n",
    "    print(f\"{x} is not divisible by 3.\")"
   ]
  },
  {
   "cell_type": "markdown",
   "id": "9f2b2457-8274-4597-b2af-39aa964c92a5",
   "metadata": {},
   "source": [
    "### Task 2: test if a fruit is in the list"
   ]
  },
  {
   "cell_type": "code",
   "execution_count": 18,
   "id": "66bb7480-5bc0-4867-8f5a-a21e8dc8c0d5",
   "metadata": {},
   "outputs": [
    {
     "name": "stdin",
     "output_type": "stream",
     "text": [
      " orange\n"
     ]
    },
    {
     "name": "stdout",
     "output_type": "stream",
     "text": [
      "orange is acceptable.\n"
     ]
    }
   ],
   "source": [
    "lst1 = [\"apple\", \"orange\", \"pear\", \"kiwi\", \"strawberry\"]\n",
    "\n",
    "fruit = input()\n",
    "\n",
    "if fruit in lst1:\n",
    "    print(f\"{fruit} is acceptable.\")\n",
    "else:\n",
    "    print(f\"{fruit} is not acceptable.\")"
   ]
  },
  {
   "cell_type": "markdown",
   "id": "1e8e4047-01a6-4fc2-b2e1-b08bf4f1f5c4",
   "metadata": {},
   "source": [
    "### Task 3: calculate distance between two coordinates using haversine formula"
   ]
  },
  {
   "cell_type": "code",
   "execution_count": 19,
   "id": "fe2590a8-f6ad-4807-a145-5b296f854c79",
   "metadata": {},
   "outputs": [],
   "source": [
    "###bla bla bla I'll do this later"
   ]
  },
  {
   "cell_type": "markdown",
   "id": "5f81ac81-ee67-4d32-90fd-d44ea6180e51",
   "metadata": {},
   "source": [
    "## Part 2: Pandas and NumPy"
   ]
  },
  {
   "cell_type": "code",
   "execution_count": null,
   "id": "8ccc27c5-1091-4597-943f-36c5a790c5d4",
   "metadata": {},
   "outputs": [],
   "source": []
  }
 ],
 "metadata": {
  "kernelspec": {
   "display_name": "Python 3 (ipykernel)",
   "language": "python",
   "name": "python3"
  },
  "language_info": {
   "codemirror_mode": {
    "name": "ipython",
    "version": 3
   },
   "file_extension": ".py",
   "mimetype": "text/x-python",
   "name": "python",
   "nbconvert_exporter": "python",
   "pygments_lexer": "ipython3",
   "version": "3.10.9"
  }
 },
 "nbformat": 4,
 "nbformat_minor": 5
}
